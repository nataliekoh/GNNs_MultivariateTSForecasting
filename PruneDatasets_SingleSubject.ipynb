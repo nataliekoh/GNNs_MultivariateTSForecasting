{
  "nbformat": 4,
  "nbformat_minor": 0,
  "metadata": {
    "colab": {
      "provenance": [],
      "collapsed_sections": [
        "d9W9c2rDOym6",
        "tGgheS27jSxH"
      ]
    },
    "kernelspec": {
      "name": "python3",
      "display_name": "Python 3"
    },
    "language_info": {
      "name": "python"
    }
  },
  "cells": [
    {
      "cell_type": "code",
      "source": [
        "!mkdir /content/processeddata"
      ],
      "metadata": {
        "id": "Ngpj_t_Is3Dn"
      },
      "execution_count": null,
      "outputs": []
    },
    {
      "cell_type": "markdown",
      "source": [
        "# **MHealth Dataset**\n",
        "\n",
        "The MHEALTH (Mobile HEALTH) dataset comprises body motion and vital signs recordings for 10 volunteers of diverse profile while performing several physical activities. Sensors placed on the subject's chest, right wrist and left ankle are used to measure the motion experienced by diverse body parts, namely, acceleration, rate of turn and magnetic field orientation. The sensor positioned on the chest also provides 2-lead ECG measurements, which can be potentially used for basic heart monitoring, checking for various arrhythmias or looking at the effects of exercise on the ECG. All sensing modalities are recorded at a sampling rate of 50 Hz.\n",
        "\n",
        "\n",
        "---\n",
        "\n",
        "Prune to select:\n",
        "* 3 participants\n",
        "* Vars: \n",
        "  * Column 1: acceleration from the chest sensor (X axis)\n",
        "  * Column 2: acceleration from the chest sensor (Y axis)\n",
        "  * Column 3: acceleration from the chest sensor (Z axis)\n",
        "  * Column 4: electrocardiogram signal (lead 1)\n",
        "  * Column 5: electrocardiogram signal (lead 2)\n",
        "  * Column 6: acceleration from the left-ankle sensor (X axis)\n",
        "  * Column 9: gyro from the left-ankle sensor (X axis)"
      ],
      "metadata": {
        "id": "pbuSpmuBukrj"
      }
    },
    {
      "cell_type": "code",
      "source": [
        "!wget https://archive.ics.uci.edu/ml/machine-learning-databases/00319/MHEALTHDATASET.zip\n",
        "!unzip MHEALTHDATASET.zip\n",
        "from IPython.display import clear_output\n",
        "clear_output()\n",
        "import os, torch \n",
        "import pandas as pd\n",
        "import numpy as np\n",
        "mhealth_dataset = []\n",
        "for path, dir, file in os.walk(\"/content/MHEALTHDATASET\"):\n",
        "    for fileNames in file:\n",
        "        if fileNames.endswith(\"log\"):\n",
        "            fileName = str(os.path.join(path,fileNames))\n",
        "            tmpData = pd.read_csv(fileName, sep='\\t', engine='python')\n",
        "            np.shape(tmpData.to_numpy()) # time x variables\n",
        "            mhealth_dataset.append(tmpData.to_numpy())"
      ],
      "metadata": {
        "id": "46f4S20mF8_w"
      },
      "execution_count": null,
      "outputs": []
    },
    {
      "cell_type": "markdown",
      "source": [
        "We will use participants to represent the \"sensors\" in the traffic dataset, because the features/variables are collected from all participants."
      ],
      "metadata": {
        "id": "VWmw1ozKUa2R"
      }
    },
    {
      "cell_type": "code",
      "source": [
        "tcat = []\n",
        "for i in range(len(mhealth_dataset)):\n",
        "  # Truncate all time series to the same length\n",
        "  t = torch.from_numpy(mhealth_dataset[i][:98303,:])\n",
        "  tcat.append(t)\n",
        "tcat = torch.stack(tcat, dim=0)\n",
        "tcat.size() # subjects x time x var\n",
        "mhealth = tcat.numpy()\n",
        "print(\"Raw 3D time series shape: {0}\".format(mhealth.shape))\n",
        "mhealth_reshaped = np.transpose(mhealth, (1, 0, 2))\n",
        "print(\"New 3D time series shape: {0}\".format(mhealth_reshaped.shape))\n",
        "\n",
        "# Downsample the data\n",
        "mhealth_reshaped_ds = mhealth_reshaped[::5]\n",
        "print(\"Downsampled 3D time series shape: {0}\".format(mhealth_reshaped_ds.shape))"
      ],
      "metadata": {
        "colab": {
          "base_uri": "https://localhost:8080/"
        },
        "id": "AZ3AyTYzINDQ",
        "outputId": "b9fdf07a-fd7a-45c6-e91d-695a32095d86"
      },
      "execution_count": null,
      "outputs": [
        {
          "output_type": "stream",
          "name": "stdout",
          "text": [
            "Raw 3D time series shape: (10, 98303, 24)\n",
            "New 3D time series shape: (98303, 10, 24)\n",
            "Downsampled 3D time series shape: (19661, 10, 24)\n"
          ]
        }
      ]
    },
    {
      "cell_type": "code",
      "source": [
        "# Truncate the dataset\n",
        "nsubjects = 1\n",
        "features_to_keep = [1,2,5,6,9]\n",
        "truncated_mhealth = mhealth_reshaped_ds[:, :nsubjects, features_to_keep]\n",
        "print(\"Truncated time series shape: {0}\".format(truncated_mhealth.shape)) # timesteps x features"
      ],
      "metadata": {
        "colab": {
          "base_uri": "https://localhost:8080/"
        },
        "id": "S0ZDiDk9B7I0",
        "outputId": "557a250c-a747-4650-a765-82ff9499addf"
      },
      "execution_count": null,
      "outputs": [
        {
          "output_type": "stream",
          "name": "stdout",
          "text": [
            "Truncated time series shape: (19661, 1, 5)\n"
          ]
        }
      ]
    },
    {
      "cell_type": "code",
      "source": [
        "# Plot\n",
        "import matplotlib.pyplot as plt\n",
        "from google.colab import files\n",
        "legend = ['Chest Acc X', 'Chest Acc Y', 'ECG Lead 2', 'Ankle Acc X', 'Ankle Gyro X']\n",
        "fig = plt.figure(figsize=(10,6))\n",
        "for i in range(5):\n",
        "  plt.plot(truncated_mhealth[:, :, i], label = legend[i])\n",
        "fig.legend(loc=7)\n",
        "plt.title('MHealth Dataset - Subject 1')\n",
        "plt.xlabel('Timestep (sample)')\n",
        "plt.savefig('mhealth_subject1_traces.png', bbox_inches='tight')\n",
        "files.download('mhealth_subject1_traces.png') "
      ],
      "metadata": {
        "colab": {
          "base_uri": "https://localhost:8080/",
          "height": 421
        },
        "id": "8r0LWIVuCeUC",
        "outputId": "ceb5d1ac-b1a3-4c42-b66e-446720986f22"
      },
      "execution_count": null,
      "outputs": [
        {
          "output_type": "display_data",
          "data": {
            "text/plain": [
              "<IPython.core.display.Javascript object>"
            ],
            "application/javascript": [
              "\n",
              "    async function download(id, filename, size) {\n",
              "      if (!google.colab.kernel.accessAllowed) {\n",
              "        return;\n",
              "      }\n",
              "      const div = document.createElement('div');\n",
              "      const label = document.createElement('label');\n",
              "      label.textContent = `Downloading \"${filename}\": `;\n",
              "      div.appendChild(label);\n",
              "      const progress = document.createElement('progress');\n",
              "      progress.max = size;\n",
              "      div.appendChild(progress);\n",
              "      document.body.appendChild(div);\n",
              "\n",
              "      const buffers = [];\n",
              "      let downloaded = 0;\n",
              "\n",
              "      const channel = await google.colab.kernel.comms.open(id);\n",
              "      // Send a message to notify the kernel that we're ready.\n",
              "      channel.send({})\n",
              "\n",
              "      for await (const message of channel.messages) {\n",
              "        // Send a message to notify the kernel that we're ready.\n",
              "        channel.send({})\n",
              "        if (message.buffers) {\n",
              "          for (const buffer of message.buffers) {\n",
              "            buffers.push(buffer);\n",
              "            downloaded += buffer.byteLength;\n",
              "            progress.value = downloaded;\n",
              "          }\n",
              "        }\n",
              "      }\n",
              "      const blob = new Blob(buffers, {type: 'application/binary'});\n",
              "      const a = document.createElement('a');\n",
              "      a.href = window.URL.createObjectURL(blob);\n",
              "      a.download = filename;\n",
              "      div.appendChild(a);\n",
              "      a.click();\n",
              "      div.remove();\n",
              "    }\n",
              "  "
            ]
          },
          "metadata": {}
        },
        {
          "output_type": "display_data",
          "data": {
            "text/plain": [
              "<IPython.core.display.Javascript object>"
            ],
            "application/javascript": [
              "download(\"download_fd601c3e-8e25-4b58-ba67-a2f3e5d9c135\", \"mhealth_subject1_traces.png\", 49355)"
            ]
          },
          "metadata": {}
        },
        {
          "output_type": "display_data",
          "data": {
            "text/plain": [
              "<Figure size 720x432 with 1 Axes>"
            ],
            "image/png": "[encoded data removed]"
          },
          "metadata": {
            "needs_background": "light"
          }
        }
      ]
    },
    {
      "cell_type": "markdown",
      "source": [
        "## Format MHealth data for STEP\n",
        "\n",
        "Generates pickle files"
      ],
      "metadata": {
        "id": "d9W9c2rDOym6"
      }
    },
    {
      "cell_type": "code",
      "source": [
        "def standard_transform(data: np.array, output_dir: str, name: str, train_index: list, \n",
        "                       history_seq_len: int, future_seq_len: int, norm_each_channel: int = False) -> np.array:\n",
        "    \"\"\"Standard normalization.\n",
        "    Args:\n",
        "        data (np.array): raw time series data.\n",
        "        output_dir (str): output dir path.\n",
        "        train_index (list): train index.\n",
        "        history_seq_len (int): historical sequence length.\n",
        "        future_seq_len (int): future sequence length.\n",
        "        norm_each_channel (bool): whether to normalization each channel.\n",
        "    Returns:\n",
        "        np.array: normalized raw time series data.\n",
        "    \"\"\"\n",
        "\n",
        "    # data: L, N, C, C=1; time x sensors x features\n",
        "    data_train = data[:train_index[-1][1], ...]\n",
        "    if norm_each_channel:\n",
        "        mean, std = data_train.mean(axis=0, keepdims=True), data_train.std(axis=0, keepdims=True)\n",
        "    else:\n",
        "        mean, std = data_train[..., 0].mean(), data_train[..., 0].std()\n",
        "\n",
        "    print(\"mean (training data):\", mean)\n",
        "    print(\"std (training data):\", std)\n",
        "    scaler = {}\n",
        "    scaler[\"args\"] = {\"mean\": mean, \"std\": std}\n",
        "    # label to identify the scaler for different settings.\n",
        "    with open(output_dir + \"/\" + name + \"_normed_hist{0}_future{1}.pkl\".format(history_seq_len, future_seq_len), \"wb\") as f:\n",
        "        pickle.dump(scaler, f)\n",
        "\n",
        "    def normalize(x):\n",
        "        return (x - mean) / std\n",
        "\n",
        "    data_norm = normalize(data)\n",
        "    return data_norm"
      ],
      "metadata": {
        "id": "M3Jyl3V0ULBd"
      },
      "execution_count": null,
      "outputs": []
    },
    {
      "cell_type": "code",
      "source": [
        "import os\n",
        "import sys\n",
        "import shutil\n",
        "import pickle\n",
        "import argparse\n",
        "import numpy as np\n",
        "import torch\n",
        "\n",
        "# Set up parameters\n",
        "history_seq_len = 50\n",
        "future_seq_len = 50\n",
        "train_ratio = 0.6\n",
        "valid_ratio = 0.2\n",
        "output_dir = '/content/processeddata'\n",
        "name = 'truncated_mhealth'\n",
        "\n",
        "t, n, f = truncated_mhealth.shape\n",
        "num_samples = t - (history_seq_len + future_seq_len) + 1\n",
        "train_num_short = round(num_samples * train_ratio)\n",
        "valid_num_short = round(num_samples * valid_ratio)\n",
        "test_num_short = round(num_samples * (1 - train_ratio - valid_ratio))\n",
        "print(\"number of training samples:{0}\".format(train_num_short))\n",
        "print(\"number of validation samples:{0}\".format(valid_num_short))\n",
        "print(\"number of test samples:{0}\".format(test_num_short))\n",
        "\n",
        "# Get indices\n",
        "index_list = []\n",
        "for t in range(history_seq_len, num_samples + history_seq_len):\n",
        "    index = (t-history_seq_len, t, t+future_seq_len)\n",
        "    index_list.append(index)\n",
        "\n",
        "train_index = index_list[:train_num_short]\n",
        "valid_index = index_list[train_num_short: train_num_short + valid_num_short]\n",
        "test_index = index_list[train_num_short +\n",
        "                        valid_num_short: train_num_short + valid_num_short + test_num_short]\n",
        "\n",
        "# Normalize the data\n",
        "scaler = standard_transform\n",
        "data_norm = scaler(truncated_mhealth, output_dir, name, train_index, history_seq_len, future_seq_len)\n",
        "feature_list = [data_norm]\n",
        "processed_data = np.concatenate(feature_list, axis=-1)\n",
        "print(\"Processed series shape: {0}\".format(processed_data.shape))\n",
        "\n",
        "# Write data to pkl file\n",
        "index = {}\n",
        "index[\"train\"] = train_index\n",
        "index[\"valid\"] = valid_index\n",
        "index[\"test\"] = test_index\n",
        "with open(output_dir + \"/\" + name + \"_index_hist{0}_future{1}.pkl\".format(history_seq_len, future_seq_len), \"wb\") as f:\n",
        "    pickle.dump(index, f)\n",
        "\n",
        "data = {}\n",
        "data[\"processed_data\"] = processed_data\n",
        "with open(output_dir + \"/\" + name + \"_data_hist{0}_future{1}.pkl\".format(history_seq_len, future_seq_len), \"wb\") as f:\n",
        "    pickle.dump(data, f)\n",
        "\n",
        "print('')\n",
        "print('Truncated MHealth data for STEP written to pkl file in output dir (no adj matrix)')"
      ],
      "metadata": {
        "colab": {
          "base_uri": "https://localhost:8080/"
        },
        "id": "DIagIEvUKRKX",
        "outputId": "3f44bf40-b4d6-4420-a976-c4e66bee8f93"
      },
      "execution_count": null,
      "outputs": [
        {
          "output_type": "stream",
          "name": "stdout",
          "text": [
            "number of training samples:11737\n",
            "number of validation samples:3912\n",
            "number of test samples:3912\n",
            "mean (training data): -0.2348143494400136\n",
            "std (training data): 2.876554050950841\n",
            "Processed series shape: (19661, 1, 5)\n",
            "\n",
            "Truncated MHealth data for STEP written to pkl file in output dir (no adj matrix)\n"
          ]
        }
      ]
    },
    {
      "cell_type": "markdown",
      "source": [
        "## Format MHealth data for WAVENET\n",
        "\n",
        "Generates npz files"
      ],
      "metadata": {
        "id": "tGgheS27jSxH"
      }
    },
    {
      "cell_type": "code",
      "source": [
        "import argparse\n",
        "import numpy as np\n",
        "import os\n",
        "import pandas as pd\n",
        "\n",
        "def generate_graph_seq2seq_io_data(df, x_offsets, y_offsets, scaler=None):\n",
        "    \"\"\"\n",
        "    Generate samples from\n",
        "    :param df:\n",
        "    :param x_offsets:\n",
        "    :param y_offsets:\n",
        "    :param scaler:\n",
        "    :return:\n",
        "    # x: (epoch_size, input_length, num_nodes, input_dim)\n",
        "    # y: (epoch_size, output_length, num_nodes, output_dim)\n",
        "    \"\"\"\n",
        "\n",
        "    num_samples, n, f = df.shape\n",
        "    data = df\n",
        "    feature_list = [data]\n",
        "\n",
        "    data = np.concatenate(feature_list, axis=-1)\n",
        "    x, y = [], []\n",
        "    min_t = abs(min(x_offsets))\n",
        "    max_t = abs(num_samples - abs(max(y_offsets)))  # Exclusive\n",
        "    for t in range(min_t, max_t):  # t is the index of the last observation.\n",
        "        x.append(data[t + x_offsets, ...])\n",
        "        y.append(data[t + y_offsets, ...])\n",
        "    x = np.stack(x, axis=0)\n",
        "    y = np.stack(y, axis=0)\n",
        "    return x, y"
      ],
      "metadata": {
        "id": "iRxFwMjAlPe5"
      },
      "execution_count": null,
      "outputs": []
    },
    {
      "cell_type": "code",
      "source": [
        "# Set up parameters (this should be as similar as the input to STEP as possible)\n",
        "\n",
        "# *** NOTE: WAVENET NEEDS SYMMETRICAL SEQ LENGTHS! ***\n",
        "\n",
        "seq_length_x = 50\n",
        "seq_length_y = 50\n",
        "y_start = 1\n",
        "train_ratio = 0.6\n",
        "valid_ratio = 0.2\n",
        "test_ratio = 1 - train_ratio - valid_ratio\n",
        "output_dir = '/content/processeddata'\n",
        "name = 'truncated_mhealth'\n",
        "\n",
        "df = truncated_mhealth \n",
        "x_offsets = np.sort(np.concatenate((np.arange(-(seq_length_x - 1), 1, 1),)))\n",
        "y_offsets = np.sort(np.arange(y_start, (seq_length_y + 1), 1))\n",
        "x, y = generate_graph_seq2seq_io_data(\n",
        "    df,\n",
        "    x_offsets=x_offsets,\n",
        "    y_offsets=y_offsets\n",
        ")\n",
        "print(\"x shape: \", x.shape, \", y shape: \", y.shape)\n",
        "\n",
        "# Write the data into npz file.\n",
        "num_samples = x.shape[0]\n",
        "num_test = round(num_samples * test_ratio)\n",
        "num_train = round(num_samples * train_ratio)\n",
        "num_val = num_samples - num_test - num_train\n",
        "x_train, y_train = x[:num_train], y[:num_train]\n",
        "x_val, y_val = (\n",
        "    x[num_train: num_train + num_val],\n",
        "    y[num_train: num_train + num_val],\n",
        ")\n",
        "x_test, y_test = x[-num_test:], y[-num_test:]\n",
        "\n",
        "for cat in [\"train\", \"val\", \"test\"]:\n",
        "    _x, _y = locals()[\"x_\" + cat], locals()[\"y_\" + cat]\n",
        "    print(cat, \"x: \", _x.shape, \"y:\", _y.shape)\n",
        "    filename = name + \"_\" + cat + \"_wavenet\"\n",
        "    np.savez_compressed(\n",
        "        os.path.join(output_dir, f\"{filename}.npz\"),\n",
        "        x=_x,\n",
        "        y=_y,\n",
        "        x_offsets=x_offsets.reshape(list(x_offsets.shape) + [1]),\n",
        "        y_offsets=y_offsets.reshape(list(y_offsets.shape) + [1]),\n",
        "    )"
      ],
      "metadata": {
        "id": "mzu9cIH6jRgE",
        "colab": {
          "base_uri": "https://localhost:8080/"
        },
        "outputId": "8be87c3f-c7d2-42a0-dcad-0bd8df8494f1"
      },
      "execution_count": null,
      "outputs": [
        {
          "output_type": "stream",
          "name": "stdout",
          "text": [
            "x shape:  (19562, 50, 1, 5) , y shape:  (19562, 50, 1, 5)\n",
            "train x:  (11737, 50, 1, 5) y: (11737, 50, 1, 5)\n",
            "val x:  (3913, 50, 1, 5) y: (3913, 50, 1, 5)\n",
            "test x:  (3912, 50, 1, 5) y: (3912, 50, 1, 5)\n"
          ]
        }
      ]
    },
    {
      "cell_type": "markdown",
      "source": [
        "# **MotionSense Dataset**\n",
        "\n",
        "This dataset includes time-series data generated by accelerometer and gyroscope sensors (attitude, gravity, userAcceleration, and rotationRate). It is collected with an iPhone 6s kept in the participant's front pocket using SensingKit which collects information from Core Motion framework on iOS devices. All data collected in 50Hz sample rate. A total of 24 participants in a range of gender, age, weight, and height performed 6 activities in 15 trials in the same environment and conditions: downstairs, upstairs, walking, jogging, sitting, and standing. With this dataset, we aim to look for personal attributes fingerprints in time-series of sensor data, i.e. attribute-specific patterns that can be used to infer gender or personality of the data subjects in addition to their activities.\n",
        "\n",
        "---\n",
        "Prune to select:\n",
        "* 3 participants\n",
        "* Walk & jog data only\n",
        "* Vars: acceleration (x,y,z); rotation (x,y,z); gravity (x;y;z)\n"
      ],
      "metadata": {
        "id": "N9WYsArHxeOv"
      }
    },
    {
      "cell_type": "code",
      "source": [
        "%cd /content/\n",
        "!git clone https://github.com/mmalekzadeh/motion-sense\n",
        "!unzip /content/motion-sense/data/A_DeviceMotion_data.zip\n",
        "!unzip /content/motion-sense/data/B_Accelerometer_data.zip\n",
        "!unzip /content/motion-sense/data/C_Gyroscope_data.zip\n",
        "clear_output()"
      ],
      "metadata": {
        "id": "wkv2rhshZcBZ"
      },
      "execution_count": null,
      "outputs": []
    },
    {
      "cell_type": "code",
      "source": [
        "sub_ids = [10]\n",
        "\n",
        "def get_ds_infos():\n",
        "    \"\"\" Gets inforamtion about data subjects' attributes\"\"\" \n",
        "    dss = pd.read_csv(\"/content/motion-sense/data/data_subjects_info.csv\")\n",
        "    return dss\n",
        "\n",
        "def set_data_types(data_types=[\"userAcceleration\"]):\n",
        "    \"\"\" Select the sensors and the mode to shape the final dataset. \"\"\"\n",
        "    dt_list = []\n",
        "    for t in data_types:\n",
        "        if t != \"attitude\":\n",
        "            dt_list.append([t+\".x\",t+\".y\",t+\".z\"])\n",
        "        else:\n",
        "            dt_list.append([t+\".roll\", t+\".pitch\", t+\".yaw\"])\n",
        "    return dt_list\n",
        "\n",
        "def creat_time_series(dt_list, act_labels, trial_codes, mode=\"mag\", labeled=False):\n",
        "    \"\"\" It returns a time-series of sensor data. \"\"\"\n",
        "    num_data_cols = len(dt_list) if mode == \"mag\" else len(dt_list*3)\n",
        "\n",
        "    if labeled:\n",
        "        dataset = np.zeros((0, num_data_cols+7)) # \"7\" --> [act, code, weight, height, age, gender, trial] \n",
        "    else:\n",
        "        dataset = np.zeros((0, num_data_cols))\n",
        "        \n",
        "    ds_list = get_ds_infos()\n",
        "    \n",
        "    print(\"[INFO] -- Creating Time-Series\")\n",
        "    for sub_id in sub_ids:\n",
        "        for act_id, act in enumerate(act_labels): # for each activity\n",
        "            for trial in trial_codes[act_id]: # for each variable\n",
        "                fname = 'A_DeviceMotion_data/'+act+'_'+str(trial)+'/sub_'+str(int(sub_id))+'.csv'\n",
        "                raw_data = pd.read_csv(fname)\n",
        "                raw_data = raw_data.drop(['Unnamed: 0'], axis=1)\n",
        "                vals = np.zeros((len(raw_data), num_data_cols))\n",
        "                for x_id, axes in enumerate(dt_list):\n",
        "                    if mode == \"mag\":\n",
        "                        vals[:,x_id] = (raw_data[axes]**2).sum(axis=1)**0.5        \n",
        "                    else:\n",
        "                        vals[:,x_id*3:(x_id+1)*3] = raw_data[axes].values\n",
        "                    vals = vals[:,:num_data_cols]\n",
        "                if labeled:\n",
        "                    lbls = np.array([[act_id,\n",
        "                            sub_id-1,\n",
        "                            ds_list[\"weight\"][sub_id-1],\n",
        "                            ds_list[\"height\"][sub_id-1],\n",
        "                            ds_list[\"age\"][sub_id-1],\n",
        "                            ds_list[\"gender\"][sub_id-1],\n",
        "                            trial          \n",
        "                           ]]*len(raw_data))\n",
        "                    vals = np.concatenate((vals, lbls), axis=1)\n",
        "                dataset = np.append(dataset, vals, axis=0)\n",
        "    cols = []\n",
        "    for axes in dt_list:\n",
        "        if mode == \"raw\":\n",
        "            cols += axes\n",
        "        else:\n",
        "            cols += [str(axes[0][:-2])]\n",
        "            \n",
        "    if labeled:\n",
        "        cols += [\"act\", \"id\", \"weight\", \"height\", \"age\", \"gender\", \"trial\"]\n",
        "    \n",
        "    dataset = pd.DataFrame(data=dataset, columns=cols)\n",
        "    return dataset\n",
        "\n",
        "ACT_LABELS = [\"dws\",\"ups\", \"wlk\", \"jog\", \"std\", \"sit\"]\n",
        "TRIAL_CODES = {\n",
        "    ACT_LABELS[0]:[1,2,11],\n",
        "    ACT_LABELS[1]:[3,4,12],\n",
        "    ACT_LABELS[2]:[7,8,15],\n",
        "    ACT_LABELS[3]:[9,16],\n",
        "    ACT_LABELS[4]:[6,14],\n",
        "    ACT_LABELS[5]:[5,13]\n",
        "}\n",
        "\n",
        "# Here we set parameter to build labeld time-series from dataset of \"(A)DeviceMotion_data\"\n",
        "# attitude(roll, pitch, yaw); gravity(x, y, z); rotationRate(x, y, z); userAcceleration(x,y,z)\n",
        "sdt = [\"userAcceleration\",'gravity','rotationRate']\n",
        "print(\"[INFO] -- Selected sensor data types: \"+str(sdt))    \n",
        "act_labels = ACT_LABELS[2:4]\n",
        "print(\"[INFO] -- Selected activites: \"+str(act_labels))    \n",
        "trial_codes = [TRIAL_CODES[act] for act in act_labels]\n",
        "dt_list = set_data_types(sdt)\n",
        "dataset = creat_time_series(dt_list, act_labels, trial_codes, mode=\"raw\", labeled=True)\n",
        "print(\"[INFO] -- Shape of time-Series dataset:\"+str(dataset.shape))  "
      ],
      "metadata": {
        "colab": {
          "base_uri": "https://localhost:8080/"
        },
        "id": "wb42qYxDxeiw",
        "outputId": "4a509b39-1276-4158-d0c4-0dd4d7f2b590"
      },
      "execution_count": null,
      "outputs": [
        {
          "output_type": "stream",
          "name": "stdout",
          "text": [
            "[INFO] -- Selected sensor data types: ['userAcceleration', 'gravity', 'rotationRate']\n",
            "[INFO] -- Selected activites: ['wlk', 'jog']\n",
            "[INFO] -- Creating Time-Series\n",
            "[INFO] -- Shape of time-Series dataset:(20620, 16)\n"
          ]
        }
      ]
    },
    {
      "cell_type": "code",
      "source": [
        "dataset"
      ],
      "metadata": {
        "colab": {
          "base_uri": "https://localhost:8080/",
          "height": 424
        },
        "id": "Lb0rGF0mzF9A",
        "outputId": "0c970405-d6e5-4b66-a73f-6c02f0ce5ffc"
      },
      "execution_count": null,
      "outputs": [
        {
          "output_type": "execute_result",
          "data": {
            "text/plain": [
              "       userAcceleration.x  userAcceleration.y  userAcceleration.z  gravity.x  \\\n",
              "0                0.100655           -0.207223            0.434824   0.170707   \n",
              "1               -0.257217            0.241457            0.122499   0.140960   \n",
              "2               -0.107223           -0.056170            0.069216   0.130889   \n",
              "3                0.071729           -0.137517            0.016593   0.134539   \n",
              "4                0.185966           -0.206742            0.115382   0.136467   \n",
              "...                   ...                 ...                 ...        ...   \n",
              "20615            0.053884           -0.138966           -0.097085   0.918955   \n",
              "20616            0.092630           -0.099254            0.020005   0.928046   \n",
              "20617            0.081522            0.018782           -0.045352   0.932882   \n",
              "20618           -0.069515            0.170097           -0.053982   0.935924   \n",
              "20619           -0.153407            0.127159           -0.006255   0.942027   \n",
              "\n",
              "       gravity.y  gravity.z  rotationRate.x  rotationRate.y  rotationRate.z  \\\n",
              "0       0.967477  -0.186670       -0.610888       -1.417156       -1.486268   \n",
              "1       0.975569  -0.168504       -1.448704       -0.455702       -1.170750   \n",
              "2       0.981875  -0.137072       -1.353352        1.427168       -0.321123   \n",
              "3       0.984060  -0.116294       -0.566311        1.076465        0.118522   \n",
              "4       0.984635  -0.108942       -0.331919       -0.294909        0.006548   \n",
              "...          ...        ...             ...             ...             ...   \n",
              "20615   0.321858   0.227852       -0.172824       -1.209841        0.306680   \n",
              "20616   0.314906   0.198883       -0.660972       -1.645687        0.234395   \n",
              "20617   0.305208   0.191227       -1.369109       -0.303478        0.324936   \n",
              "20618   0.290627   0.198925       -1.062130        0.021990        0.717633   \n",
              "20619   0.270927   0.197921       -0.596587       -0.443680        0.882783   \n",
              "\n",
              "       act   id  weight  height   age  gender  trial  \n",
              "0      0.0  9.0    72.0   164.0  31.0     0.0    7.0  \n",
              "1      0.0  9.0    72.0   164.0  31.0     0.0    7.0  \n",
              "2      0.0  9.0    72.0   164.0  31.0     0.0    7.0  \n",
              "3      0.0  9.0    72.0   164.0  31.0     0.0    7.0  \n",
              "4      0.0  9.0    72.0   164.0  31.0     0.0    7.0  \n",
              "...    ...  ...     ...     ...   ...     ...    ...  \n",
              "20615  1.0  9.0    72.0   164.0  31.0     0.0   16.0  \n",
              "20616  1.0  9.0    72.0   164.0  31.0     0.0   16.0  \n",
              "20617  1.0  9.0    72.0   164.0  31.0     0.0   16.0  \n",
              "20618  1.0  9.0    72.0   164.0  31.0     0.0   16.0  \n",
              "20619  1.0  9.0    72.0   164.0  31.0     0.0   16.0  \n",
              "\n",
              "[20620 rows x 16 columns]"
            ],
            "text/html": [
              "\n",
              "  <div id=\"df-ab09e423-b05b-4dd8-833f-35840ead87ff\">\n",
              "    <div class=\"colab-df-container\">\n",
              "      <div>\n",
              "<style scoped>\n",
              "    .dataframe tbody tr th:only-of-type {\n",
              "        vertical-align: middle;\n",
              "    }\n",
              "\n",
              "    .dataframe tbody tr th {\n",
              "        vertical-align: top;\n",
              "    }\n",
              "\n",
              "    .dataframe thead th {\n",
              "        text-align: right;\n",
              "    }\n",
              "</style>\n",
              "<table border=\"1\" class=\"dataframe\">\n",
              "  <thead>\n",
              "    <tr style=\"text-align: right;\">\n",
              "      <th></th>\n",
              "      <th>userAcceleration.x</th>\n",
              "      <th>userAcceleration.y</th>\n",
              "      <th>userAcceleration.z</th>\n",
              "      <th>gravity.x</th>\n",
              "      <th>gravity.y</th>\n",
              "      <th>gravity.z</th>\n",
              "      <th>rotationRate.x</th>\n",
              "      <th>rotationRate.y</th>\n",
              "      <th>rotationRate.z</th>\n",
              "      <th>act</th>\n",
              "      <th>id</th>\n",
              "      <th>weight</th>\n",
              "      <th>height</th>\n",
              "      <th>age</th>\n",
              "      <th>gender</th>\n",
              "      <th>trial</th>\n",
              "    </tr>\n",
              "  </thead>\n",
              "  <tbody>\n",
              "    <tr>\n",
              "      <th>0</th>\n",
              "      <td>0.100655</td>\n",
              "      <td>-0.207223</td>\n",
              "      <td>0.434824</td>\n",
              "      <td>0.170707</td>\n",
              "      <td>0.967477</td>\n",
              "      <td>-0.186670</td>\n",
              "      <td>-0.610888</td>\n",
              "      <td>-1.417156</td>\n",
              "      <td>-1.486268</td>\n",
              "      <td>0.0</td>\n",
              "      <td>9.0</td>\n",
              "      <td>72.0</td>\n",
              "      <td>164.0</td>\n",
              "      <td>31.0</td>\n",
              "      <td>0.0</td>\n",
              "      <td>7.0</td>\n",
              "    </tr>\n",
              "    <tr>\n",
              "      <th>1</th>\n",
              "      <td>-0.257217</td>\n",
              "      <td>0.241457</td>\n",
              "      <td>0.122499</td>\n",
              "      <td>0.140960</td>\n",
              "      <td>0.975569</td>\n",
              "      <td>-0.168504</td>\n",
              "      <td>-1.448704</td>\n",
              "      <td>-0.455702</td>\n",
              "      <td>-1.170750</td>\n",
              "      <td>0.0</td>\n",
              "      <td>9.0</td>\n",
              "      <td>72.0</td>\n",
              "      <td>164.0</td>\n",
              "      <td>31.0</td>\n",
              "      <td>0.0</td>\n",
              "      <td>7.0</td>\n",
              "    </tr>\n",
              "    <tr>\n",
              "      <th>2</th>\n",
              "      <td>-0.107223</td>\n",
              "      <td>-0.056170</td>\n",
              "      <td>0.069216</td>\n",
              "      <td>0.130889</td>\n",
              "      <td>0.981875</td>\n",
              "      <td>-0.137072</td>\n",
              "      <td>-1.353352</td>\n",
              "      <td>1.427168</td>\n",
              "      <td>-0.321123</td>\n",
              "      <td>0.0</td>\n",
              "      <td>9.0</td>\n",
              "      <td>72.0</td>\n",
              "      <td>164.0</td>\n",
              "      <td>31.0</td>\n",
              "      <td>0.0</td>\n",
              "      <td>7.0</td>\n",
              "    </tr>\n",
              "    <tr>\n",
              "      <th>3</th>\n",
              "      <td>0.071729</td>\n",
              "      <td>-0.137517</td>\n",
              "      <td>0.016593</td>\n",
              "      <td>0.134539</td>\n",
              "      <td>0.984060</td>\n",
              "      <td>-0.116294</td>\n",
              "      <td>-0.566311</td>\n",
              "      <td>1.076465</td>\n",
              "      <td>0.118522</td>\n",
              "      <td>0.0</td>\n",
              "      <td>9.0</td>\n",
              "      <td>72.0</td>\n",
              "      <td>164.0</td>\n",
              "      <td>31.0</td>\n",
              "      <td>0.0</td>\n",
              "      <td>7.0</td>\n",
              "    </tr>\n",
              "    <tr>\n",
              "      <th>4</th>\n",
              "      <td>0.185966</td>\n",
              "      <td>-0.206742</td>\n",
              "      <td>0.115382</td>\n",
              "      <td>0.136467</td>\n",
              "      <td>0.984635</td>\n",
              "      <td>-0.108942</td>\n",
              "      <td>-0.331919</td>\n",
              "      <td>-0.294909</td>\n",
              "      <td>0.006548</td>\n",
              "      <td>0.0</td>\n",
              "      <td>9.0</td>\n",
              "      <td>72.0</td>\n",
              "      <td>164.0</td>\n",
              "      <td>31.0</td>\n",
              "      <td>0.0</td>\n",
              "      <td>7.0</td>\n",
              "    </tr>\n",
              "    <tr>\n",
              "      <th>...</th>\n",
              "      <td>...</td>\n",
              "      <td>...</td>\n",
              "      <td>...</td>\n",
              "      <td>...</td>\n",
              "      <td>...</td>\n",
              "      <td>...</td>\n",
              "      <td>...</td>\n",
              "      <td>...</td>\n",
              "      <td>...</td>\n",
              "      <td>...</td>\n",
              "      <td>...</td>\n",
              "      <td>...</td>\n",
              "      <td>...</td>\n",
              "      <td>...</td>\n",
              "      <td>...</td>\n",
              "      <td>...</td>\n",
              "    </tr>\n",
              "    <tr>\n",
              "      <th>20615</th>\n",
              "      <td>0.053884</td>\n",
              "      <td>-0.138966</td>\n",
              "      <td>-0.097085</td>\n",
              "      <td>0.918955</td>\n",
              "      <td>0.321858</td>\n",
              "      <td>0.227852</td>\n",
              "      <td>-0.172824</td>\n",
              "      <td>-1.209841</td>\n",
              "      <td>0.306680</td>\n",
              "      <td>1.0</td>\n",
              "      <td>9.0</td>\n",
              "      <td>72.0</td>\n",
              "      <td>164.0</td>\n",
              "      <td>31.0</td>\n",
              "      <td>0.0</td>\n",
              "      <td>16.0</td>\n",
              "    </tr>\n",
              "    <tr>\n",
              "      <th>20616</th>\n",
              "      <td>0.092630</td>\n",
              "      <td>-0.099254</td>\n",
              "      <td>0.020005</td>\n",
              "      <td>0.928046</td>\n",
              "      <td>0.314906</td>\n",
              "      <td>0.198883</td>\n",
              "      <td>-0.660972</td>\n",
              "      <td>-1.645687</td>\n",
              "      <td>0.234395</td>\n",
              "      <td>1.0</td>\n",
              "      <td>9.0</td>\n",
              "      <td>72.0</td>\n",
              "      <td>164.0</td>\n",
              "      <td>31.0</td>\n",
              "      <td>0.0</td>\n",
              "      <td>16.0</td>\n",
              "    </tr>\n",
              "    <tr>\n",
              "      <th>20617</th>\n",
              "      <td>0.081522</td>\n",
              "      <td>0.018782</td>\n",
              "      <td>-0.045352</td>\n",
              "      <td>0.932882</td>\n",
              "      <td>0.305208</td>\n",
              "      <td>0.191227</td>\n",
              "      <td>-1.369109</td>\n",
              "      <td>-0.303478</td>\n",
              "      <td>0.324936</td>\n",
              "      <td>1.0</td>\n",
              "      <td>9.0</td>\n",
              "      <td>72.0</td>\n",
              "      <td>164.0</td>\n",
              "      <td>31.0</td>\n",
              "      <td>0.0</td>\n",
              "      <td>16.0</td>\n",
              "    </tr>\n",
              "    <tr>\n",
              "      <th>20618</th>\n",
              "      <td>-0.069515</td>\n",
              "      <td>0.170097</td>\n",
              "      <td>-0.053982</td>\n",
              "      <td>0.935924</td>\n",
              "      <td>0.290627</td>\n",
              "      <td>0.198925</td>\n",
              "      <td>-1.062130</td>\n",
              "      <td>0.021990</td>\n",
              "      <td>0.717633</td>\n",
              "      <td>1.0</td>\n",
              "      <td>9.0</td>\n",
              "      <td>72.0</td>\n",
              "      <td>164.0</td>\n",
              "      <td>31.0</td>\n",
              "      <td>0.0</td>\n",
              "      <td>16.0</td>\n",
              "    </tr>\n",
              "    <tr>\n",
              "      <th>20619</th>\n",
              "      <td>-0.153407</td>\n",
              "      <td>0.127159</td>\n",
              "      <td>-0.006255</td>\n",
              "      <td>0.942027</td>\n",
              "      <td>0.270927</td>\n",
              "      <td>0.197921</td>\n",
              "      <td>-0.596587</td>\n",
              "      <td>-0.443680</td>\n",
              "      <td>0.882783</td>\n",
              "      <td>1.0</td>\n",
              "      <td>9.0</td>\n",
              "      <td>72.0</td>\n",
              "      <td>164.0</td>\n",
              "      <td>31.0</td>\n",
              "      <td>0.0</td>\n",
              "      <td>16.0</td>\n",
              "    </tr>\n",
              "  </tbody>\n",
              "</table>\n",
              "<p>20620 rows × 16 columns</p>\n",
              "</div>\n",
              "      <button class=\"colab-df-convert\" onclick=\"convertToInteractive('df-ab09e423-b05b-4dd8-833f-35840ead87ff')\"\n",
              "              title=\"Convert this dataframe to an interactive table.\"\n",
              "              style=\"display:none;\">\n",
              "        \n",
              "  <svg xmlns=\"http://www.w3.org/2000/svg\" height=\"24px\"viewBox=\"0 0 24 24\"\n",
              "       width=\"24px\">\n",
              "    <path d=\"M0 0h24v24H0V0z\" fill=\"none\"/>\n",
              "    <path d=\"M18.56 5.44l.94 2.06.94-2.06 2.06-.94-2.06-.94-.94-2.06-.94 2.06-2.06.94zm-11 1L8.5 8.5l.94-2.06 2.06-.94-2.06-.94L8.5 2.5l-.94 2.06-2.06.94zm10 10l.94 2.06.94-2.06 2.06-.94-2.06-.94-.94-2.06-.94 2.06-2.06.94z\"/><path d=\"M17.41 7.96l-1.37-1.37c-.4-.4-.92-.59-1.43-.59-.52 0-1.04.2-1.43.59L10.3 9.45l-7.72 7.72c-.78.78-.78 2.05 0 2.83L4 21.41c.39.39.9.59 1.41.59.51 0 1.02-.2 1.41-.59l7.78-7.78 2.81-2.81c.8-.78.8-2.07 0-2.86zM5.41 20L4 18.59l7.72-7.72 1.47 1.35L5.41 20z\"/>\n",
              "  </svg>\n",
              "      </button>\n",
              "      \n",
              "  <style>\n",
              "    .colab-df-container {\n",
              "      display:flex;\n",
              "      flex-wrap:wrap;\n",
              "      gap: 12px;\n",
              "    }\n",
              "\n",
              "    .colab-df-convert {\n",
              "      background-color: #E8F0FE;\n",
              "      border: none;\n",
              "      border-radius: 50%;\n",
              "      cursor: pointer;\n",
              "      display: none;\n",
              "      fill: #1967D2;\n",
              "      height: 32px;\n",
              "      padding: 0 0 0 0;\n",
              "      width: 32px;\n",
              "    }\n",
              "\n",
              "    .colab-df-convert:hover {\n",
              "      background-color: #E2EBFA;\n",
              "      box-shadow: 0px 1px 2px rgba(60, 64, 67, 0.3), 0px 1px 3px 1px rgba(60, 64, 67, 0.15);\n",
              "      fill: #174EA6;\n",
              "    }\n",
              "\n",
              "    [theme=dark] .colab-df-convert {\n",
              "      background-color: #3B4455;\n",
              "      fill: #D2E3FC;\n",
              "    }\n",
              "\n",
              "    [theme=dark] .colab-df-convert:hover {\n",
              "      background-color: #434B5C;\n",
              "      box-shadow: 0px 1px 3px 1px rgba(0, 0, 0, 0.15);\n",
              "      filter: drop-shadow(0px 1px 2px rgba(0, 0, 0, 0.3));\n",
              "      fill: #FFFFFF;\n",
              "    }\n",
              "  </style>\n",
              "\n",
              "      <script>\n",
              "        const buttonEl =\n",
              "          document.querySelector('#df-ab09e423-b05b-4dd8-833f-35840ead87ff button.colab-df-convert');\n",
              "        buttonEl.style.display =\n",
              "          google.colab.kernel.accessAllowed ? 'block' : 'none';\n",
              "\n",
              "        async function convertToInteractive(key) {\n",
              "          const element = document.querySelector('#df-ab09e423-b05b-4dd8-833f-35840ead87ff');\n",
              "          const dataTable =\n",
              "            await google.colab.kernel.invokeFunction('convertToInteractive',\n",
              "                                                     [key], {});\n",
              "          if (!dataTable) return;\n",
              "\n",
              "          const docLinkHtml = 'Like what you see? Visit the ' +\n",
              "            '<a target=\"_blank\" href=https://colab.research.google.com/notebooks/data_table.ipynb>data table notebook</a>'\n",
              "            + ' to learn more about interactive tables.';\n",
              "          element.innerHTML = '';\n",
              "          dataTable['output_type'] = 'display_data';\n",
              "          await google.colab.output.renderOutput(dataTable, element);\n",
              "          const docLink = document.createElement('div');\n",
              "          docLink.innerHTML = docLinkHtml;\n",
              "          element.appendChild(docLink);\n",
              "        }\n",
              "      </script>\n",
              "    </div>\n",
              "  </div>\n",
              "  "
            ]
          },
          "metadata": {},
          "execution_count": 18
        }
      ]
    },
    {
      "cell_type": "code",
      "source": [
        "truncated_msense = []\n",
        "features_to_keep = [1,2,3,4,6]\n",
        "for sub_id in [9]:\n",
        "  sub_dataset = dataset[dataset[\"id\"].isin([float(sub_id)])]\n",
        "  sub_tensor = torch.tensor(sub_dataset.values)\n",
        "  sub_tensor = sub_tensor[0:18836, features_to_keep]\n",
        "  sub_tensor_numpy = sub_tensor.numpy()\n",
        "  truncated_msense.append(sub_tensor_numpy)\n",
        "  \n",
        "truncated_msense = np.stack(truncated_msense, axis=1)\n",
        "print(\"Msense data shape:\" + str(truncated_msense.shape)) # timesteps x features\n"
      ],
      "metadata": {
        "colab": {
          "base_uri": "https://localhost:8080/"
        },
        "id": "ieih0XHunb6w",
        "outputId": "85c573b6-6ae3-4c75-e3a0-a9239dd60285"
      },
      "execution_count": null,
      "outputs": [
        {
          "output_type": "stream",
          "name": "stdout",
          "text": [
            "Msense data shape:(18836, 1, 5)\n"
          ]
        }
      ]
    },
    {
      "cell_type": "code",
      "source": [
        "# Plot\n",
        "legend = ['Acc X', 'Acc Y', 'Acc Z', 'Gravity X', 'Gravity Z']\n",
        "fig = plt.figure(figsize=(10,6))\n",
        "for i in [4, 0, 1, 2, 3]:\n",
        "  plt.plot(truncated_msense[:, :, i], label = legend[i])\n",
        "fig.legend(loc=7)\n",
        "plt.title('MSense Dataset - Subject 10')\n",
        "plt.xlabel('Timestep (sample)')\n",
        "plt.savefig('msense_subject10_traces.png', bbox_inches='tight')\n",
        "files.download('msense_subject10_traces.png') "
      ],
      "metadata": {
        "colab": {
          "base_uri": "https://localhost:8080/",
          "height": 404
        },
        "id": "FKQ9SSImERS0",
        "outputId": "31b48d58-f6cc-40a1-c42b-b4ca4efa1d15"
      },
      "execution_count": null,
      "outputs": [
        {
          "output_type": "display_data",
          "data": {
            "text/plain": [
              "<IPython.core.display.Javascript object>"
            ],
            "application/javascript": [
              "\n",
              "    async function download(id, filename, size) {\n",
              "      if (!google.colab.kernel.accessAllowed) {\n",
              "        return;\n",
              "      }\n",
              "      const div = document.createElement('div');\n",
              "      const label = document.createElement('label');\n",
              "      label.textContent = `Downloading \"${filename}\": `;\n",
              "      div.appendChild(label);\n",
              "      const progress = document.createElement('progress');\n",
              "      progress.max = size;\n",
              "      div.appendChild(progress);\n",
              "      document.body.appendChild(div);\n",
              "\n",
              "      const buffers = [];\n",
              "      let downloaded = 0;\n",
              "\n",
              "      const channel = await google.colab.kernel.comms.open(id);\n",
              "      // Send a message to notify the kernel that we're ready.\n",
              "      channel.send({})\n",
              "\n",
              "      for await (const message of channel.messages) {\n",
              "        // Send a message to notify the kernel that we're ready.\n",
              "        channel.send({})\n",
              "        if (message.buffers) {\n",
              "          for (const buffer of message.buffers) {\n",
              "            buffers.push(buffer);\n",
              "            downloaded += buffer.byteLength;\n",
              "            progress.value = downloaded;\n",
              "          }\n",
              "        }\n",
              "      }\n",
              "      const blob = new Blob(buffers, {type: 'application/binary'});\n",
              "      const a = document.createElement('a');\n",
              "      a.href = window.URL.createObjectURL(blob);\n",
              "      a.download = filename;\n",
              "      div.appendChild(a);\n",
              "      a.click();\n",
              "      div.remove();\n",
              "    }\n",
              "  "
            ]
          },
          "metadata": {}
        },
        {
          "output_type": "display_data",
          "data": {
            "text/plain": [
              "<IPython.core.display.Javascript object>"
            ],
            "application/javascript": [
              "download(\"download_76c5e07b-e60e-46ff-939d-9bb18bb2871f\", \"msense_subject10_traces.png\", 52532)"
            ]
          },
          "metadata": {}
        },
        {
          "output_type": "display_data",
          "data": {
            "text/plain": [
              "<Figure size 720x432 with 1 Axes>"
            ],
            "image/png": "[encoded data removed]"
          },
          "metadata": {
            "needs_background": "light"
          }
        }
      ]
    },
    {
      "cell_type": "markdown",
      "source": [
        "## Format MSense data for STEP"
      ],
      "metadata": {
        "id": "uoS1pQ4ec_Jo"
      }
    },
    {
      "cell_type": "code",
      "source": [
        "# Set up parameters\n",
        "history_seq_len = 500\n",
        "future_seq_len = 50\n",
        "train_ratio = 0.6\n",
        "valid_ratio = 0.2\n",
        "output_dir = '/content/processeddata'\n",
        "name = 'truncated_msense'\n",
        "\n",
        "t, n, f = truncated_msense.shape\n",
        "num_samples = t - (history_seq_len + future_seq_len) + 1\n",
        "train_num_short = round(num_samples * train_ratio)\n",
        "valid_num_short = round(num_samples * valid_ratio)\n",
        "test_num_short = round(num_samples * (1 - train_ratio - valid_ratio))\n",
        "print(\"number of training samples:{0}\".format(train_num_short))\n",
        "print(\"number of validation samples:{0}\".format(valid_num_short))\n",
        "print(\"number of test samples:{0}\".format(test_num_short))\n",
        "\n",
        "# Get indices\n",
        "index_list = []\n",
        "for t in range(history_seq_len, num_samples + history_seq_len):\n",
        "    index = (t-history_seq_len, t, t+future_seq_len)\n",
        "    index_list.append(index)\n",
        "\n",
        "train_index = index_list[:train_num_short]\n",
        "valid_index = index_list[train_num_short: train_num_short + valid_num_short]\n",
        "test_index = index_list[train_num_short +\n",
        "                        valid_num_short: train_num_short + valid_num_short + test_num_short]\n",
        "\n",
        "# Normalize the data\n",
        "scaler = standard_transform\n",
        "data_norm = scaler(truncated_msense, output_dir, name, train_index, history_seq_len, future_seq_len)\n",
        "feature_list = [data_norm]\n",
        "processed_data = np.concatenate(feature_list, axis=-1)\n",
        "print(\"Processed series shape: {0}\".format(processed_data.shape))\n",
        "\n",
        "# Write data to pkl file\n",
        "index = {}\n",
        "index[\"train\"] = train_index\n",
        "index[\"valid\"] = valid_index\n",
        "index[\"test\"] = test_index\n",
        "with open(output_dir + \"/\" + name + \"_index_hist{0}_future{1}.pkl\".format(history_seq_len, future_seq_len), \"wb\") as f:\n",
        "    pickle.dump(index, f)\n",
        "\n",
        "data = {}\n",
        "data[\"processed_data\"] = processed_data\n",
        "with open(output_dir + \"/\" + name + \"_data_hist{0}_future{1}.pkl\".format(history_seq_len, future_seq_len), \"wb\") as f:\n",
        "    pickle.dump(data, f)\n",
        "\n",
        "print('')\n",
        "print('Truncated MSense data for STEP written to pkl file in output dir (no adj matrix)')"
      ],
      "metadata": {
        "colab": {
          "base_uri": "https://localhost:8080/"
        },
        "id": "foYIeppBc1qc",
        "outputId": "b62391ee-a565-4183-961b-f5b85fdd0f73"
      },
      "execution_count": null,
      "outputs": [
        {
          "output_type": "stream",
          "name": "stdout",
          "text": [
            "number of training samples:10972\n",
            "number of validation samples:3657\n",
            "number of test samples:3657\n",
            "mean (training data): 0.08788398631331183\n",
            "std (training data): 0.43537602730700253\n",
            "Processed series shape: (18836, 1, 5)\n",
            "\n",
            "Truncated MSense data for STEP written to pkl file in output dir (no adj matrix)\n"
          ]
        }
      ]
    },
    {
      "cell_type": "markdown",
      "source": [
        "## Format MSense data for WAVENET\n",
        "\n",
        "Generates npz files"
      ],
      "metadata": {
        "id": "n2EvCNoE98f9"
      }
    },
    {
      "cell_type": "code",
      "source": [
        "# Set up parameters (this should be as similar as the input to STEP as possible)\n",
        "\n",
        "# *** NOTE: WAVENET NEEDS SYMMETRICAL SEQ LENGTHS! ***\n",
        "\n",
        "seq_length_x = 50\n",
        "seq_length_y = 50\n",
        "y_start = 1\n",
        "train_ratio = 0.7\n",
        "valid_ratio = 0.15\n",
        "test_ratio = 1 - train_ratio - valid_ratio\n",
        "output_dir = '/content/processeddata'\n",
        "name = 'truncated_msense'\n",
        "\n",
        "df = truncated_msense\n",
        "x_offsets = np.sort(np.concatenate((np.arange(-(seq_length_x - 1), 1, 1),)))\n",
        "y_offsets = np.sort(np.arange(y_start, (seq_length_y + 1), 1))\n",
        "x, y = generate_graph_seq2seq_io_data(\n",
        "    df,\n",
        "    x_offsets=x_offsets,\n",
        "    y_offsets=y_offsets\n",
        ")\n",
        "print(\"x shape: \", x.shape, \", y shape: \", y.shape)\n",
        "\n",
        "# Write the data into npz file.\n",
        "num_samples = x.shape[0]\n",
        "num_test = round(num_samples * test_ratio)\n",
        "num_train = round(num_samples * train_ratio)\n",
        "num_val = num_samples - num_test - num_train\n",
        "x_train, y_train = x[:num_train], y[:num_train]\n",
        "x_val, y_val = (\n",
        "    x[num_train: num_train + num_val],\n",
        "    y[num_train: num_train + num_val],\n",
        ")\n",
        "x_test, y_test = x[-num_test:], y[-num_test:]\n",
        "\n",
        "for cat in [\"train\", \"val\", \"test\"]:\n",
        "    _x, _y = locals()[\"x_\" + cat], locals()[\"y_\" + cat]\n",
        "    print(cat, \"x: \", _x.shape, \"y:\", _y.shape)\n",
        "    filename = name + \"_\" + cat + \"_wavenet\"\n",
        "    np.savez_compressed(\n",
        "        os.path.join(output_dir, f\"{filename}.npz\"),\n",
        "        x=_x,\n",
        "        y=_y,\n",
        "        x_offsets=x_offsets.reshape(list(x_offsets.shape) + [1]),\n",
        "        y_offsets=y_offsets.reshape(list(y_offsets.shape) + [1]),\n",
        "    )"
      ],
      "metadata": {
        "id": "d2i4iam4yCTG",
        "colab": {
          "base_uri": "https://localhost:8080/"
        },
        "outputId": "b855d93e-eca4-4bd4-8834-e671beffe11d"
      },
      "execution_count": null,
      "outputs": [
        {
          "output_type": "stream",
          "name": "stdout",
          "text": [
            "x shape:  (18737, 50, 1, 5) , y shape:  (18737, 50, 1, 5)\n",
            "train x:  (13116, 50, 1, 5) y: (13116, 50, 1, 5)\n",
            "val x:  (2810, 50, 1, 5) y: (2810, 50, 1, 5)\n",
            "test x:  (2811, 50, 1, 5) y: (2811, 50, 1, 5)\n"
          ]
        }
      ]
    }
  ]
}